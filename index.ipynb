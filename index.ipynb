{
 "cells": [
  {
   "cell_type": "markdown",
   "metadata": {},
   "source": [
    "# Python Lists - Reloaded"
   ]
  },
  {
   "cell_type": "markdown",
   "metadata": {},
   "source": [
    "## Introduction:"
   ]
  },
  {
   "cell_type": "markdown",
   "metadata": {},
   "source": [
    "A `List` is a fundamental data type in Python. It is used to group elements together in order. Each element is separated by a comma and can be any data type. In this lab, we will practice using lists and builtin methods Python provides for using and manipulating lists."
   ]
  },
  {
   "cell_type": "markdown",
   "metadata": {},
   "source": [
    "## Objectives:"
   ]
  },
  {
   "cell_type": "markdown",
   "metadata": {},
   "source": [
    "* Gain comfort and familiarity with iterating over lists\n",
    "* Recreate some commonly used methods that iterate through lists and return a desired result"
   ]
  },
  {
   "cell_type": "markdown",
   "metadata": {},
   "source": [
    "## Iterating On Each Element"
   ]
  },
  {
   "cell_type": "markdown",
   "metadata": {},
   "source": [
    "A common use for lists is to group together each element of a set or subset. Usually there will be times where we will want to have direct access to a group of elements and be able to query or change each of the elements. For instance, we have a list of people (our group of 'elements') who are all going to the same housewarming party. Each person has an RSVP status attribute. To check each person's status, we will need to iterate through each element and access their status.\n",
    "\n",
    "```python\n",
    "housewarming_invitees = [{'name': \"Jen\", 'rsvp': \"Yes\"}, {'name': \"Mike\", 'rsvp': \"No\"}, {'name': \"Henry\", 'rsvp': \"Yes\"}, {'name': \"Anna\", 'rsvp': \"No\"}]\n",
    "for invitee in housewarming_invitees:\n",
    "    print(invitee['rsvp'])\n",
    "```\n",
    "\n",
    "Great, we can query each element, but let's say we need to send a list of the guest's names to a company that is going to make seating cards with each guests' name? We don't want to re-write all the names, but we don't want to just iterate through and blindly send over a list of names without making sure that they are all capitalized properly. So, We need to iterate through each element and titlize each person's name.\n",
    "\n",
    "```python\n",
    "housewarming_invitees = [{'name': \"Jen\", 'rsvp': \"Yes\"}, {'name': \"Mike\", 'rsvp': \"No\"}, {'name': \"Henry\", 'rsvp': \"Yes\"}, {'name': \"Anna\", 'rsvp': \"No\"}]\n",
    "\n",
    "def titlize_names(list_of_invitees): \n",
    "    return [invitee['name'].title() for invitee in list_of_invitees]\n",
    "```\n",
    "\n",
    "Now what if we would like to find an element that meets a certain criteria? For example, if we only wanted to find the guest with the name \"Jen\". \n",
    "\n",
    "What about wanting to find only the guests who have RSVPd \"Yes\" to the Party? \n",
    "\n",
    "Open `list_methods.py` and complete the functions provided according to their descriptions which are noted in comments."
   ]
  },
  {
   "cell_type": "markdown",
   "metadata": {},
   "source": [
    "## List Comprehension"
   ]
  },
  {
   "cell_type": "markdown",
   "metadata": {},
   "source": [
    "> **Note:** When working through the lab, remember to make use of list comprehension as is it can often be a more concise and simple method to solve these types of problems. To break down exactly how list comprehension works, see the example below:\n",
    "\n",
    "```python\n",
    "\n",
    "new_list = []\n",
    "for element in elements:\n",
    "    new_list.append(element['name'])\n",
    "    \n",
    "# In list comprehension we create a new list, then we declare what operation we want to perform on each element, then we define what the element will be called and finally we define the list on which we are iterating.\n",
    "\n",
    "[element['name'] for element in elements]\n",
    "\n",
    "# no need to append as we are already returning the value directly inside the list\n",
    "```"
   ]
  },
  {
   "cell_type": "markdown",
   "metadata": {},
   "source": [
    "# Summary"
   ]
  },
  {
   "cell_type": "markdown",
   "metadata": {},
   "source": [
    "In this lab, we practiced iterating on lists. We looked at how to break down the logic for each step of the operation and what questions we would like to solve for using iterators and lists. We looked at lists that contained elements of different data types. We also wrote our own functions to immitate some already built-in list methods as well as some functions that perform commonly used operations.\n",
    "\n",
    "For more information on built-in `list` functions in Python, [click here.](https://docs.python.org/2/library/functions.html#max)"
   ]
  }
 ],
 "metadata": {
  "kernelspec": {
   "display_name": "Python 3",
   "language": "python",
   "name": "python3"
  },
  "language_info": {
   "codemirror_mode": {
    "name": "ipython",
    "version": 3
   },
   "file_extension": ".py",
   "mimetype": "text/x-python",
   "name": "python",
   "nbconvert_exporter": "python",
   "pygments_lexer": "ipython3",
   "version": "3.6.5"
  }
 },
 "nbformat": 4,
 "nbformat_minor": 2
}
